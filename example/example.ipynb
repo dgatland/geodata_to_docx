{
 "cells": [
  {
   "cell_type": "code",
   "execution_count": 1,
   "metadata": {},
   "outputs": [],
   "source": [
    "import sys\n",
    "\n",
    "import geopandas as gpd\n",
    "\n",
    "sys.path.append(\"..\")\n",
    "from geodata_to_docx import build_report\n",
    "\n",
    "%load_ext autoreload\n",
    "%autoreload 2"
   ]
  },
  {
   "cell_type": "markdown",
   "metadata": {},
   "source": [
    "# Load data"
   ]
  },
  {
   "cell_type": "code",
   "execution_count": 2,
   "metadata": {},
   "outputs": [
    {
     "data": {
      "text/html": [
       "<div>\n",
       "<style scoped>\n",
       "    .dataframe tbody tr th:only-of-type {\n",
       "        vertical-align: middle;\n",
       "    }\n",
       "\n",
       "    .dataframe tbody tr th {\n",
       "        vertical-align: top;\n",
       "    }\n",
       "\n",
       "    .dataframe thead th {\n",
       "        text-align: right;\n",
       "    }\n",
       "</style>\n",
       "<table border=\"1\" class=\"dataframe\">\n",
       "  <thead>\n",
       "    <tr style=\"text-align: right;\">\n",
       "      <th></th>\n",
       "      <th>ID</th>\n",
       "      <th>Colour</th>\n",
       "      <th>Description</th>\n",
       "      <th>Photo</th>\n",
       "      <th>geometry</th>\n",
       "    </tr>\n",
       "  </thead>\n",
       "  <tbody>\n",
       "    <tr>\n",
       "      <th>0</th>\n",
       "      <td>1</td>\n",
       "      <td>red</td>\n",
       "      <td>A point on Lower Domain Driver</td>\n",
       "      <td>qgis.png</td>\n",
       "      <td>POINT (174.77422 -36.85423)</td>\n",
       "    </tr>\n",
       "    <tr>\n",
       "      <th>1</th>\n",
       "      <td>2</td>\n",
       "      <td>blue</td>\n",
       "      <td>A point at the reflection pond</td>\n",
       "      <td>geopandas.png</td>\n",
       "      <td>POINT (174.77477 -36.85788)</td>\n",
       "    </tr>\n",
       "    <tr>\n",
       "      <th>2</th>\n",
       "      <td>3</td>\n",
       "      <td>yellow</td>\n",
       "      <td>Are there any fish at the Wintergarden fish pond?</td>\n",
       "      <td>python.png</td>\n",
       "      <td>POINT (174.77411 -36.86058)</td>\n",
       "    </tr>\n",
       "    <tr>\n",
       "      <th>3</th>\n",
       "      <td>4</td>\n",
       "      <td>green</td>\n",
       "      <td>This is where the Auckland War Memorial Museum is</td>\n",
       "      <td>pandas.png</td>\n",
       "      <td>POINT (174.77778 -36.86011)</td>\n",
       "    </tr>\n",
       "  </tbody>\n",
       "</table>\n",
       "</div>"
      ],
      "text/plain": [
       "   ID  Colour                                        Description  \\\n",
       "0   1     red                     A point on Lower Domain Driver   \n",
       "1   2    blue                     A point at the reflection pond   \n",
       "2   3  yellow  Are there any fish at the Wintergarden fish pond?   \n",
       "3   4   green  This is where the Auckland War Memorial Museum is   \n",
       "\n",
       "           Photo                     geometry  \n",
       "0       qgis.png  POINT (174.77422 -36.85423)  \n",
       "1  geopandas.png  POINT (174.77477 -36.85788)  \n",
       "2     python.png  POINT (174.77411 -36.86058)  \n",
       "3     pandas.png  POINT (174.77778 -36.86011)  "
      ]
     },
     "execution_count": 2,
     "metadata": {},
     "output_type": "execute_result"
    }
   ],
   "source": [
    "data=gpd.read_file(\"data/points.gpkg\")\n",
    "long_response_fields = [\"Description\"]\n",
    "data"
   ]
  },
  {
   "cell_type": "markdown",
   "metadata": {},
   "source": [
    "# Build a report"
   ]
  },
  {
   "cell_type": "code",
   "execution_count": 7,
   "metadata": {},
   "outputs": [],
   "source": [
    "doc = build_report(\n",
    "    data=data,\n",
    "    long_response_fields=long_response_fields,\n",
    "    intro_text=\"Hello, here is some intro text for this document. And below is an image of the study area and data points collected.\",\n",
    "    intro_image_path=\"data/map.png\",\n",
    "    image_fields=[\"Photo\"],\n",
    "    image_dir=\"data/\",\n",
    "    use_two_column_tables=False,\n",
    "    use_page_breaks=True,\n",
    "    template_path = \"blank.docx\",\n",
    ")\n",
    "doc.save(\"document.docx\")"
   ]
  },
  {
   "cell_type": "code",
   "execution_count": null,
   "metadata": {},
   "outputs": [],
   "source": []
  }
 ],
 "metadata": {
  "kernelspec": {
   "display_name": "Python 3 (ipykernel)",
   "language": "python",
   "name": "python3"
  },
  "language_info": {
   "codemirror_mode": {
    "name": "ipython",
    "version": 3
   },
   "file_extension": ".py",
   "mimetype": "text/x-python",
   "name": "python",
   "nbconvert_exporter": "python",
   "pygments_lexer": "ipython3",
   "version": "3.10.6"
  },
  "vscode": {
   "interpreter": {
    "hash": "fcc24e9967af4ec73b1698e1d2703ec5787b6f0e28f9a3afe42b44ac344ada42"
   }
  }
 },
 "nbformat": 4,
 "nbformat_minor": 2
}
